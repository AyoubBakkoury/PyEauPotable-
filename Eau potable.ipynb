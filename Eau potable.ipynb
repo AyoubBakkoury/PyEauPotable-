{
 "cells": [
  {
   "cell_type": "markdown",
   "metadata": {},
   "source": [
    "<hr style=\"border-width:2px;border-color:#75DFC1\">\n",
    "<center><h1> Évaluation de la potabilité de l'eau </h1></center>\n",
    "<hr style=\"border-width:2px;border-color:#75DFC1\">\n",
    "\n",
    "## 1. Introduction \n",
    "\n",
    "L'objectif de ce projet est de déterminer à partir d'un jeu de données si une eau est potable ou non.\n",
    ">\n",
    "> * Les normes imposées par l'OMS pour définir si l'eau est potable ou non sont les suivantes : \n",
    ">\n",
    ">> - **6.5 < pH < 8.5**\n",
    ">> - Desirable limit: **Solids < 500 mg/L** | Maximum limit: **Solids < 1000 mg/L**\n",
    ">> - **Chloramines < 4 mg/L** (= 4 ppm)\n",
    ">> - In seawater: **Sulfate ~ 2.7 mg/L** | In most fresh water supplies: **3 < Sulfate < 30 mg/L** | In some geographic locations: **Sulfate = 1000 mg/L** \n",
    ">> - **Conductivity < 400 µS/cm**\n",
    ">> - **Organic_carbon < 2 mg/L** in treated/drinking water | **Organic_carbon < 4 mg/L** in source water used for treatment\n",
    ">> - **Trihalomethanes < 80 ppm**\n",
    ">> - Recommended value: **Turbidity = 5.00 NTU**\n",
    "\n",
    "\n",
    "\n",
    "> * Importons toutes les bibliothèques nécessaires pour le projet"
   ]
  },
  {
   "cell_type": "code",
   "execution_count": null,
   "metadata": {},
   "outputs": [],
   "source": [
    "import numpy as np\n",
    "import pandas as pd\n",
    "import seaborn as sns\n",
    "import matplotlib.pyplot as plt\n",
    "from tqdm import tqdm\n",
    "from utils import process_remove_outliers_ph, process_remove_outliers_quartile\n",
    "import os\n",
    "\n",
    "from sklearn.model_selection import train_test_split\n",
    "from sklearn.experimental import enable_iterative_imputer\n",
    "from sklearn.impute import IterativeImputer\n",
    "from sklearn.pipeline import Pipeline\n",
    "from sklearn.preprocessing import StandardScaler\n",
    "from sklearn.linear_model import LogisticRegression\n",
    "from sklearn.metrics import (\n",
    "    accuracy_score,\n",
    "    f1_score,\n",
    "    f2_score,\n",
    "    make_scorer,\n",
    "    precision_score,\n",
    "    recall_score,\n",
    ")\n",
    "from sklearn.model_selection import GridSearchCV\n",
    "from sklearn.model_selection import cross_val_score\n",
    "from sklearn.neighbors import KNeighborsClassifier\n",
    "from sklearn.svm import SVC\n",
    "from sklearn.ensemble import (\n",
    "    AdaBoostClassifier,\n",
    "    GradientBoostingClassifier,\n",
    "    RandomForestClassifier,\n",
    ")\n",
    "from sklearn.metrics import (\n",
    "    ConfusionMatrixDisplay,\n",
    "    classification_report,\n",
    "    confusion_matrix,\n",
    ")\n",
    "\n",
    "import warnings\n",
    "warnings.filterwarnings(\"ignore\")"
   ]
  },
  {
   "cell_type": "markdown",
   "metadata": {},
   "source": [
    "## 2. Exploration des données "
   ]
  },
  {
   "cell_type": "markdown",
   "metadata": {},
   "source": []
  },
  {
   "cell_type": "code",
   "execution_count": null,
   "metadata": {},
   "outputs": [],
   "source": []
  },
  {
   "cell_type": "code",
   "execution_count": null,
   "metadata": {},
   "outputs": [],
   "source": []
  }
 ],
 "metadata": {
  "kernelspec": {
   "display_name": "Python 3",
   "language": "python",
   "name": "python3"
  },
  "language_info": {
   "codemirror_mode": {
    "name": "ipython",
    "version": 3
   },
   "file_extension": ".py",
   "mimetype": "text/x-python",
   "name": "python",
   "nbconvert_exporter": "python",
   "pygments_lexer": "ipython3",
   "version": "3.8.5"
  },
  "nbTranslate": {
   "displayLangs": [
    "*"
   ],
   "hotkey": "alt-t",
   "langInMainMenu": true,
   "sourceLang": "en",
   "targetLang": "fr",
   "useGoogleTranslate": true
  }
 },
 "nbformat": 4,
 "nbformat_minor": 4
}
